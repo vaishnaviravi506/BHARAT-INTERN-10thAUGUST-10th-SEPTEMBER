{
 "cells": [
  {
   "cell_type": "markdown",
   "id": "41714176",
   "metadata": {},
   "source": [
    "# Housing price prediction using linear regression\n",
    "\n",
    "(Regularised Gradient Descent and Regularised Normal equation)"
   ]
  },
  {
   "cell_type": "code",
   "execution_count": 9,
   "id": "20549e63",
   "metadata": {},
   "outputs": [],
   "source": [
    "import numpy as np\n",
    "import pandas as pd\n",
    "import matplotlib.pyplot as plt"
   ]
  },
  {
   "cell_type": "markdown",
   "id": "15646502",
   "metadata": {},
   "source": [
    "1.Delete unnecessary column.\n",
    "\n",
    "2.Normalised the data with mean"
   ]
  },
  {
   "cell_type": "code",
   "execution_count": 10,
   "id": "2c2c9523",
   "metadata": {},
   "outputs": [
    {
     "data": {
      "text/html": [
       "<div>\n",
       "<style scoped>\n",
       "    .dataframe tbody tr th:only-of-type {\n",
       "        vertical-align: middle;\n",
       "    }\n",
       "\n",
       "    .dataframe tbody tr th {\n",
       "        vertical-align: top;\n",
       "    }\n",
       "\n",
       "    .dataframe thead th {\n",
       "        text-align: right;\n",
       "    }\n",
       "</style>\n",
       "<table border=\"1\" class=\"dataframe\">\n",
       "  <thead>\n",
       "    <tr style=\"text-align: right;\">\n",
       "      <th></th>\n",
       "      <th>price</th>\n",
       "      <th>lotsize</th>\n",
       "      <th>bedrooms</th>\n",
       "      <th>bathrms</th>\n",
       "      <th>stories</th>\n",
       "      <th>garagepl</th>\n",
       "    </tr>\n",
       "  </thead>\n",
       "  <tbody>\n",
       "    <tr>\n",
       "      <th>0</th>\n",
       "      <td>-0.978239</td>\n",
       "      <td>0.322732</td>\n",
       "      <td>0.047192</td>\n",
       "      <td>-0.568973</td>\n",
       "      <td>0.221501</td>\n",
       "      <td>0.357239</td>\n",
       "    </tr>\n",
       "    <tr>\n",
       "      <th>1</th>\n",
       "      <td>-1.109312</td>\n",
       "      <td>-0.530526</td>\n",
       "      <td>-1.308947</td>\n",
       "      <td>-0.568973</td>\n",
       "      <td>-0.930304</td>\n",
       "      <td>-0.803788</td>\n",
       "    </tr>\n",
       "    <tr>\n",
       "      <th>2</th>\n",
       "      <td>-0.697368</td>\n",
       "      <td>-0.964074</td>\n",
       "      <td>0.047192</td>\n",
       "      <td>-0.568973</td>\n",
       "      <td>-0.930304</td>\n",
       "      <td>-0.803788</td>\n",
       "    </tr>\n",
       "    <tr>\n",
       "      <th>3</th>\n",
       "      <td>-0.285425</td>\n",
       "      <td>0.691709</td>\n",
       "      <td>0.047192</td>\n",
       "      <td>-0.568973</td>\n",
       "      <td>0.221501</td>\n",
       "      <td>-0.803788</td>\n",
       "    </tr>\n",
       "    <tr>\n",
       "      <th>4</th>\n",
       "      <td>-0.266700</td>\n",
       "      <td>0.557955</td>\n",
       "      <td>-1.308947</td>\n",
       "      <td>-0.568973</td>\n",
       "      <td>-0.930304</td>\n",
       "      <td>-0.803788</td>\n",
       "    </tr>\n",
       "  </tbody>\n",
       "</table>\n",
       "</div>"
      ],
      "text/plain": [
       "      price   lotsize  bedrooms   bathrms   stories  garagepl\n",
       "0 -0.978239  0.322732  0.047192 -0.568973  0.221501  0.357239\n",
       "1 -1.109312 -0.530526 -1.308947 -0.568973 -0.930304 -0.803788\n",
       "2 -0.697368 -0.964074  0.047192 -0.568973 -0.930304 -0.803788\n",
       "3 -0.285425  0.691709  0.047192 -0.568973  0.221501 -0.803788\n",
       "4 -0.266700  0.557955 -1.308947 -0.568973 -0.930304 -0.803788"
      ]
     },
     "execution_count": 10,
     "metadata": {},
     "output_type": "execute_result"
    }
   ],
   "source": [
    "data = pd.read_csv('Housing Price data set.csv')\n",
    "data=data.drop(['Unnamed: 0','driveway','recroom','fullbase','airco','prefarea', 'gashw'],axis=1)\n",
    "mean = data.mean()[0]\n",
    "stddev = data.std()[0]\n",
    "data = (data - data.mean())/data.std()\n",
    "\n",
    "data.head()"
   ]
  },
  {
   "cell_type": "markdown",
   "id": "11a7b43a",
   "metadata": {},
   "source": [
    "Separate out the Feature and Target matrices and devide test and train data with 0.9 split ratio"
   ]
  },
  {
   "cell_type": "code",
   "execution_count": 11,
   "id": "692cd06a",
   "metadata": {},
   "outputs": [],
   "source": [
    "data=np.asarray(data)\n",
    "Y=data[:,0:1]\n",
    "X=data[:,1:]\n",
    "one = np.ones((len(X),1))\n",
    "X = np.concatenate((one,X),axis=1)\n",
    "split_ratio = 0.9\n",
    "split = int(split_ratio * X.shape[0])\n",
    "X_test = X[split+1:,:]\n",
    "X_train = X[:split+1, :]\n",
    "Y_test = Y[split+1:,:]\n",
    "Y_train = Y[:split+1, :]"
   ]
  },
  {
   "cell_type": "markdown",
   "id": "b6b3f397",
   "metadata": {},
   "source": [
    "1.Compute cost function. \n",
    "\n",
    "2.denormalise price funcion.\n",
    "\n",
    "3.compute error function.\n",
    "\n",
    "4.plot graph function."
   ]
  },
  {
   "cell_type": "code",
   "execution_count": 12,
   "id": "07d775bf",
   "metadata": {},
   "outputs": [],
   "source": [
    "# helper Functions\n",
    "def computeCost(X,y,theta,lam):\n",
    "    tobesummed = np.power(((X.dot(theta.T))-y),2)+lam*np.sum(np.power(theta,2))\n",
    "    return np.sum(tobesummed)/(2 * len(X))\n",
    "\n",
    "def denormalise_price(price):\n",
    "    global mean\n",
    "    global stddev\n",
    "    ret = price * stddev + mean\n",
    "    return ret\n",
    "\n",
    "def computeError(predicted, actual):\n",
    "    error = 0\n",
    "    for i in range(len(predicted)):\n",
    "        error += abs(actual[i] - predicted[i]) / actual[i]\n",
    "    error /= len(actual)\n",
    "    return error[0]\n",
    "\n",
    "def plotGraph(x,y,labelX='X',labelY='Y',title='X vs Y'):\n",
    "  fig, ax = plt.subplots()  \n",
    "  ax.plot(x, y, 'r')\n",
    "  ax.set_xlabel(labelX) \n",
    "  ax.set_ylabel(labelY)  \n",
    "  ax.set_title(title)\n",
    "     "
   ]
  },
  {
   "cell_type": "markdown",
   "id": "1b69008a",
   "metadata": {},
   "source": [
    "Gradient descent with regularisation to fint minimum theta"
   ]
  },
  {
   "cell_type": "code",
   "execution_count": 13,
   "id": "cb13b1e2",
   "metadata": {},
   "outputs": [],
   "source": [
    "# Gradient Descent\n",
    "def gradientDescent(X,y,theta,iters,alpha, lam):\n",
    "    lam_matrix = lam * np.ones(theta.shape)\n",
    "    lam_matrix[0][0] = 0\n",
    "    for i in range(iters):\n",
    "        theta = theta*(1- lam_matrix / len(X)) - (alpha/len(X)) * np.sum(X * (X @ theta.T - y), axis=0)\n",
    "\n",
    "    return theta"
   ]
  },
  {
   "cell_type": "markdown",
   "id": "0cf944cd",
   "metadata": {},
   "source": [
    "Normal eqution function with regularisation to find minimum theta"
   ]
  },
  {
   "cell_type": "code",
   "execution_count": 14,
   "id": "5cc319c7",
   "metadata": {},
   "outputs": [],
   "source": [
    "#Normal equation\n",
    "def normalEquation(X,Y,lam):\n",
    "    lam_matrix = lam * np.identity(X.shape[1])\n",
    "    lam_matrix[0][0] = 0\n",
    "    theta = np.linalg.inv(X.T.dot(X) + lam_matrix).dot(X.T).dot(Y)\n",
    "    return theta"
   ]
  },
  {
   "cell_type": "markdown",
   "id": "ef265a79",
   "metadata": {},
   "source": [
    "1.Train the model with train data and predict the test data using gradient descent.\n",
    "\n",
    "2.compute the minimum error and lambda.\n",
    "\n",
    "3.plot error vs lambda graph."
   ]
  },
  {
   "cell_type": "code",
   "execution_count": 16,
   "id": "ceb30aca",
   "metadata": {},
   "outputs": [
    {
     "name": "stdout",
     "output_type": "stream",
     "text": [
      "min Error  :  13.960611355440056 %\n",
      "Optimal Lambda :  24\n"
     ]
    },
    {
     "data": {
      "image/png": "[encoded data removed]",
      "text/plain": [
       "<Figure size 432x288 with 1 Axes>"
      ]
     },
     "metadata": {
      "needs_background": "light"
     },
     "output_type": "display_data"
    }
   ],
   "source": [
    "theta = np.zeros([1,X.shape[1]])\n",
    "alpha = .1 #learning rate\n",
    "iters = 500 #epoch\n",
    "error_matrix = []\n",
    "lam_range = 600 #maximam lamda\n",
    "for lam in range(lam_range):\n",
    "    g = gradientDescent(X_train,Y_train,theta,iters,alpha, lam)\n",
    "    Cost = computeCost(X_train,Y_train,g,lam)\n",
    "\n",
    "    Y_pred = X_test.dot(g.T)\n",
    "    error = computeError(denormalise_price(Y_pred),denormalise_price(Y_test))\n",
    "    error_matrix.append(error*100)\n",
    "optimal_lambda = 0\n",
    "min_error = 9999\n",
    "for i in range(len(error_matrix)):\n",
    "    if error_matrix[i] < min_error:\n",
    "        optimal_lambda = i\n",
    "        min_error = error_matrix[i]\n",
    "\n",
    "print(\"min Error  : \", (min_error),'%')\n",
    "print(\"Optimal Lambda : \", optimal_lambda)\n",
    "plotGraph(np.arange(lam_range),error_matrix,'lambda','error','lambda vs error')"
   ]
  },
  {
   "cell_type": "code",
   "execution_count": 17,
   "id": "2ff3cf2d",
   "metadata": {},
   "outputs": [
    {
     "name": "stdout",
     "output_type": "stream",
     "text": [
      "pred price = 64257.57664950318 actual price = 58500.0\n"
     ]
    }
   ],
   "source": [
    "print('pred price =',denormalise_price(Y_pred[2][0]),'actual price =',denormalise_price(Y_test[2][0]))"
   ]
  },
  {
   "cell_type": "markdown",
   "id": "19607642",
   "metadata": {},
   "source": [
    "1.Train the model with train data and predict the test data using Normal Equation\n",
    "\n",
    "2.compute the minimum error and lambda\n",
    "\n",
    "3.plot error vs lambda graph"
   ]
  },
  {
   "cell_type": "code",
   "execution_count": 18,
   "id": "2ac63769",
   "metadata": {},
   "outputs": [
    {
     "name": "stdout",
     "output_type": "stream",
     "text": [
      "min Error :  13.432288061521586\n",
      "Optimal Lambda :  311\n"
     ]
    },
    {
     "data": {
      "image/png": "[encoded data removed]",
      "text/plain": [
       "<Figure size 432x288 with 1 Axes>"
      ]
     },
     "metadata": {
      "needs_background": "light"
     },
     "output_type": "display_data"
    }
   ],
   "source": [
    "error_mat = []\n",
    "lam_range = 600\n",
    "\n",
    "for lam in range(lam_range):\n",
    "    theta = normalEquation(X,Y,lam)\n",
    "    Cost = computeCost(X_train,Y_train,theta.T,lam)\n",
    "    Y_pred = X_test.dot(theta)\n",
    "    error = computeError(denormalise_price(Y_pred),denormalise_price(Y_test))\n",
    "    error_mat.append(error*100)\n",
    "\n",
    "optimal_lambda = 0\n",
    "min_error = 9999\n",
    "for i in range(len(error_mat)):\n",
    "    if error_mat[i] < min_error:\n",
    "        optimal_lambda = i\n",
    "        min_error = error_mat[i]\n",
    "print(\"min Error : \", min_error)\n",
    "print(\"Optimal Lambda : \", optimal_lambda)\n",
    "plotGraph(np.arange(lam_range),error_mat,'lambda','error','lambda vs error')"
   ]
  },
  {
   "cell_type": "code",
   "execution_count": 19,
   "id": "88cb7143",
   "metadata": {},
   "outputs": [
    {
     "name": "stdout",
     "output_type": "stream",
     "text": [
      "pred price = 57100.426317244695 actual price = 58500.0\n"
     ]
    }
   ],
   "source": [
    "print('pred price =',denormalise_price(Y_pred[2][0]),'actual price =',denormalise_price(Y_test[2])[0])"
   ]
  }
 ],
 "metadata": {
  "kernelspec": {
   "display_name": "Python 3",
   "language": "python",
   "name": "python3"
  },
  "language_info": {
   "codemirror_mode": {
    "name": "ipython",
    "version": 3
   },
   "file_extension": ".py",
   "mimetype": "text/x-python",
   "name": "python",
   "nbconvert_exporter": "python",
   "pygments_lexer": "ipython3",
   "version": "3.8.8"
  }
 },
 "nbformat": 4,
 "nbformat_minor": 5
}
